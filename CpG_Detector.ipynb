{
 "cells": [
  {
   "cell_type": "markdown",
   "metadata": {
    "id": "G4T6QHHOnfcQ"
   },
   "source": [
    "# Part 1: Build CpG Detector\n",
    "\n",
    "Here we have a simple problem, given a DNA sequence (of N, A, C, G, T), count the number of CpGs in the sequence (consecutive CGs).\n",
    "\n",
    "We have defined a few helper functions / parameters for performing this task.\n",
    "\n",
    "We need you to build a LSTM model and train it to complish this task in PyTorch.\n",
    "\n",
    "A good solution will be a model that can be trained, with high confidence in correctness."
   ]
  },
  {
   "cell_type": "code",
   "execution_count": 1,
   "metadata": {
    "id": "mfS4cLmZD2oB"
   },
   "outputs": [],
   "source": [
    "from typing import Sequence\n",
    "from functools import partial\n",
    "import random\n",
    "import torch\n",
    "import numpy as np\n",
    "import random\n",
    "import torch.nn as nn\n",
    "from sklearn.metrics import mean_absolute_error, mean_squared_error, r2_score\n",
    "import pandas as pd\n",
    "import matplotlib.pyplot as plt\n",
    "from torch.utils.data import DataLoader\n",
    "import torch.nn.functional as F"
   ]
  },
  {
   "cell_type": "code",
   "execution_count": 2,
   "metadata": {},
   "outputs": [],
   "source": [
    "# !pip install scikit-learn\n",
    "# !pip install pandas\n",
    "# !pip install matplotlib"
   ]
  },
  {
   "cell_type": "code",
   "execution_count": 21,
   "metadata": {
    "id": "_f-brPAvKvTn"
   },
   "outputs": [],
   "source": [
    "# DO NOT CHANGE HERE\n",
    "def set_seed(seed=13):\n",
    "    random.seed(seed)\n",
    "    np.random.seed(seed)\n",
    "    torch.manual_seed(seed)\n",
    "    if torch.cuda.is_available():\n",
    "        torch.cuda.manual_seed_all(seed)\n",
    "\n",
    "set_seed(13)\n",
    "\n",
    "# Use this for getting x label\n",
    "def rand_sequence(n_seqs: int, seq_len: int=128) -> Sequence[int]:\n",
    "    for i in range(n_seqs):\n",
    "        yield [random.randint(0, 4) for _ in range(seq_len)]\n",
    "\n",
    "# Use this for getting y label\n",
    "def count_cpgs(seq: str) -> int:\n",
    "    cgs = 0\n",
    "    for i in range(0, len(seq) - 1):\n",
    "        dimer = seq[i:i+2]\n",
    "        # note that seq is a string, not a list\n",
    "        if dimer == \"CG\":\n",
    "            cgs += 1\n",
    "    return cgs\n",
    "\n",
    "# Alphabet helpers   \n",
    "alphabet = 'NACGT'\n",
    "dna2int = { a: i for a, i in zip(alphabet, range(5))}\n",
    "int2dna = { i: a for a, i in zip(alphabet, range(5))}\n",
    "\n",
    "intseq_to_dnaseq = partial(map, int2dna.get)\n",
    "dnaseq_to_intseq = partial(map, dna2int.get)"
   ]
  },
  {
   "cell_type": "code",
   "execution_count": 22,
   "metadata": {
    "colab": {
     "base_uri": "https://localhost:8080/"
    },
    "executionInfo": {
     "elapsed": 383,
     "status": "ok",
     "timestamp": 1651686469847,
     "user": {
      "displayName": "Ylex",
      "userId": "01820639168093643789"
     },
     "user_tz": 240
    },
    "id": "VK9Qg5GHYxOb",
    "outputId": "0a00bbb6-d9ac-4cf8-ed84-b55b335d7f51"
   },
   "outputs": [],
   "source": [
    "# we prepared two datasets for training and evaluation\n",
    "# training data scale we set to 2048\n",
    "# we test on 512\n",
    "\n",
    "def prepare_data(num_samples=100):\n",
    "    # prepared the training and test data\n",
    "    # you need to call rand_sequence and count_cpgs here to create the dataset\n",
    "    # step 1\n",
    "    X_dna_seqs_train = list(rand_sequence(num_samples))\n",
    "    \"\"\"\n",
    "    hint:\n",
    "        1. You can check X_dna_seqs_train by print, the data is ids which is your training X \n",
    "        2. You first convert ids back to DNA sequence\n",
    "        3. Then you run count_cpgs which will yield CGs counts - this will be the labels (Y)\n",
    "    \"\"\"\n",
    "    #step2\n",
    "    temp = [''.join(intseq_to_dnaseq(seq)) for seq in X_dna_seqs_train]\n",
    "     # use intseq_to_dnaseq here to convert ids back to DNA seqs\n",
    "    #step3\n",
    "    y_dna_seqs = [count_cpgs(seq) for seq in temp]\n",
    "     # use count_cpgs here to generate labels with temp generated in step2\n",
    "    \n",
    "    return X_dna_seqs_train, y_dna_seqs\n",
    "    \n",
    "train_x, train_y = prepare_data(2048)\n",
    "test_x, test_y = prepare_data(512)"
   ]
  },
  {
   "cell_type": "code",
   "execution_count": 23,
   "metadata": {},
   "outputs": [
    {
     "data": {
      "image/png": "[encoded data removed]",
      "text/plain": [
       "<Figure size 640x480 with 1 Axes>"
      ]
     },
     "metadata": {},
     "output_type": "display_data"
    }
   ],
   "source": [
    "plt.hist(train_y, bins=30)\n",
    "plt.title(\"Distribution of CpG counts in training data\")\n",
    "plt.show()"
   ]
  },
  {
   "cell_type": "code",
   "execution_count": 24,
   "metadata": {},
   "outputs": [],
   "source": [
    "LSTM_HIDDEN = 128\n",
    "LSTM_LAYER = 2\n",
    "batch_size = 64\n",
    "learning_rate = 0.0001\n",
    "epoch_num = 500\n",
    "dropout_rate = 0.3\n",
    "weight_decay = 1e-5\n",
    "step_size = 10\n",
    "gamma = 0.5"
   ]
  },
  {
   "cell_type": "code",
   "execution_count": 25,
   "metadata": {},
   "outputs": [],
   "source": [
    "# Convert lists to torch tensors\n",
    "train_x_tensor = torch.tensor(train_x, dtype=torch.long)\n",
    "train_y_tensor = torch.tensor(train_y, dtype=torch.float32)\n",
    "\n",
    "test_x_tensor = torch.tensor(test_x, dtype=torch.long)\n",
    "test_y_tensor = torch.tensor(test_y, dtype=torch.float32)\n",
    "\n",
    "# Create datasets and DataLoaders\n",
    "train_dataset = torch.utils.data.TensorDataset(train_x_tensor, train_y_tensor)\n",
    "test_dataset = torch.utils.data.TensorDataset(test_x_tensor, test_y_tensor)\n",
    "\n",
    "train_data_loader = torch.utils.data.DataLoader(train_dataset, batch_size=batch_size, shuffle=True)\n",
    "test_data_loader = torch.utils.data.DataLoader(test_dataset, batch_size=batch_size, shuffle=False)\n"
   ]
  },
  {
   "cell_type": "code",
   "execution_count": 26,
   "metadata": {
    "id": "q8fgxrM0LnLy"
   },
   "outputs": [
    {
     "data": {
      "text/plain": [
       "CpGPredictor(\n",
       "  (lstm): LSTM(5, 256, num_layers=2, batch_first=True, dropout=0.3, bidirectional=True)\n",
       "  (layer_norm): LayerNorm((512,), eps=1e-05, elementwise_affine=True)\n",
       "  (fc1): Linear(in_features=512, out_features=128, bias=True)\n",
       "  (fc2): Linear(in_features=128, out_features=1, bias=True)\n",
       "  (dropout): Dropout(p=0.3, inplace=False)\n",
       ")"
      ]
     },
     "execution_count": 26,
     "metadata": {},
     "output_type": "execute_result"
    }
   ],
   "source": [
    "# Model Definition\n",
    "class CpGPredictor(nn.Module):\n",
    "    def __init__(self, input_size=5, hidden_size=128, num_layers=1, dropout=0.3):\n",
    "        super(CpGPredictor, self).__init__()\n",
    "        self.lstm = nn.LSTM(input_size, hidden_size, num_layers, batch_first=True, dropout=dropout, bidirectional=True)\n",
    "        self.layer_norm = nn.LayerNorm(2*hidden_size)\n",
    "        self.fc1 = nn.Linear(2* hidden_size, hidden_size // 2)\n",
    "        self.fc2 = nn.Linear(hidden_size // 2, 1)\n",
    "        self.dropout = nn.Dropout(dropout)\n",
    "\n",
    "    def forward(self, x):\n",
    "        # Convert to one-hot encoding\n",
    "        x = torch.nn.functional.one_hot(x, num_classes=5).float()\n",
    "        lstm_out, _ = self.lstm(x)\n",
    "        lstm_out = self.layer_norm(lstm_out[:, -1, :])\n",
    "        x = torch.relu(self.fc1(lstm_out))\n",
    "        x = self.dropout(x)\n",
    "        logits = self.fc2(x)\n",
    "        return logits.squeeze()\n",
    "\n",
    "# Initialize the model\n",
    "model = CpGPredictor(input_size=5, hidden_size=256, num_layers=2, dropout=0.3)\n",
    "\n",
    "# Weight Initialization Function\n",
    "def init_weights(m):\n",
    "    if isinstance(m, nn.Linear):\n",
    "        torch.nn.init.kaiming_uniform_(m.weight, nonlinearity='relu')  # He initialization for FC layers\n",
    "        if m.bias is not None:\n",
    "            torch.nn.init.zeros_(m.bias)\n",
    "    elif isinstance(m, nn.LSTM):\n",
    "        for name, param in m.named_parameters():\n",
    "            if 'weight' in name:\n",
    "                torch.nn.init.xavier_uniform_(param.data)  # Xavier initialization for LSTM\n",
    "            elif 'bias' in name:\n",
    "                torch.nn.init.zeros_(param.data)\n",
    "\n",
    "# Apply weight initialization\n",
    "model.apply(init_weights)"
   ]
  },
  {
   "cell_type": "code",
   "execution_count": 27,
   "metadata": {},
   "outputs": [
    {
     "name": "stderr",
     "output_type": "stream",
     "text": [
      "/opt/conda/lib/python3.10/site-packages/torch/nn/modules/rnn.py:83: UserWarning: dropout option adds dropout after all but last recurrent layer, so non-zero dropout expects num_layers greater than 1, but got dropout=0.5 and num_layers=1\n",
      "  warnings.warn(\"dropout option adds dropout after all but last \"\n"
     ]
    }
   ],
   "source": [
    "model = CpGPredictor(input_size=5, hidden_size=256, num_layers=1, dropout=0.5)\n",
    "model.apply(init_weights)\n",
    "loss_fn = nn.MSELoss()\n",
    "optimizer = torch.optim.Adam([\n",
    "    {'params': model.lstm.parameters(), 'lr': 0.0005},  # Higher LR for LSTM\n",
    "    {'params': model.fc1.parameters(), 'lr': 0.001},    # Higher LR for FC layers\n",
    "    {'params': model.fc2.parameters(), 'lr': 0.001}\n",
    "], weight_decay=1e-5)\n",
    "\n",
    "scheduler = torch.optim.lr_scheduler.ReduceLROnPlateau(optimizer, mode='min', patience=10, factor=0.5)\n",
    "accumulation_steps = 4\n"
   ]
  },
  {
   "cell_type": "code",
   "execution_count": 28,
   "metadata": {},
   "outputs": [
    {
     "data": {
      "text/plain": [
       "CpGPredictor(\n",
       "  (lstm): LSTM(5, 256, batch_first=True, dropout=0.5, bidirectional=True)\n",
       "  (layer_norm): LayerNorm((512,), eps=1e-05, elementwise_affine=True)\n",
       "  (fc1): Linear(in_features=512, out_features=128, bias=True)\n",
       "  (fc2): Linear(in_features=128, out_features=1, bias=True)\n",
       "  (dropout): Dropout(p=0.5, inplace=False)\n",
       ")"
      ]
     },
     "execution_count": 28,
     "metadata": {},
     "output_type": "execute_result"
    }
   ],
   "source": [
    "# Move model to GPU if available\n",
    "device = torch.device(\"cuda\" if torch.cuda.is_available() else \"cpu\")\n",
    "model.to(device)"
   ]
  },
  {
   "cell_type": "code",
   "execution_count": 31,
   "metadata": {},
   "outputs": [
    {
     "name": "stdout",
     "output_type": "stream",
     "text": [
      "Epoch [1/500], MAE: 1.6502, MSE: 4.5588, R-squared: -0.0967\n",
      "Epoch [50/500], MAE: 1.4846, MSE: 3.5262, R-squared: 0.1517\n",
      "Epoch [100/500], MAE: 1.3671, MSE: 3.0423, R-squared: 0.2681\n",
      "Epoch [150/500], MAE: 0.4833, MSE: 0.3538, R-squared: 0.9149\n",
      "Epoch [200/500], MAE: 0.4905, MSE: 0.3307, R-squared: 0.9204\n",
      "Epoch [250/500], MAE: 0.1679, MSE: 0.0558, R-squared: 0.9866\n",
      "Epoch [300/500], MAE: 0.1738, MSE: 0.0528, R-squared: 0.9873\n",
      "Epoch [350/500], MAE: 0.1640, MSE: 0.0490, R-squared: 0.9882\n",
      "Epoch [400/500], MAE: 0.1617, MSE: 0.0477, R-squared: 0.9885\n",
      "Epoch [450/500], MAE: 0.1609, MSE: 0.0477, R-squared: 0.9885\n",
      "Epoch [500/500], MAE: 0.1613, MSE: 0.0471, R-squared: 0.9887\n"
     ]
    }
   ],
   "source": [
    "for epoch in range(epoch_num):\n",
    "    model.train()\n",
    "    t_loss = 0.0\n",
    "    optimizer.zero_grad()\n",
    "\n",
    "    # Training loop\n",
    "    for batch_x, batch_y in train_data_loader:\n",
    "        batch_x, batch_y = batch_x.to(device), batch_y.to(device)\n",
    "        outputs = model(batch_x)\n",
    "        loss = loss_fn(outputs, batch_y)\n",
    "        t_loss += loss.item()\n",
    "\n",
    "        loss.backward()\n",
    "        torch.nn.utils.clip_grad_norm_(model.parameters(), max_norm=10.0)\n",
    "        optimizer.step()\n",
    "\n",
    "    # Compute average training loss\n",
    "    avg_train_loss = t_loss / len(train_data_loader)\n",
    "    \n",
    "    # Validation loop to compute average validation loss\n",
    "    model.eval()\n",
    "    val_loss = 0.0\n",
    "    with torch.no_grad():\n",
    "        for batch_x, batch_y in test_data_loader:\n",
    "            batch_x, batch_y = batch_x.to(device), batch_y.to(device)\n",
    "            outputs = model(batch_x)\n",
    "            loss = loss_fn(outputs, batch_y)\n",
    "            val_loss += loss.item()\n",
    "\n",
    "    # Compute average validation loss\n",
    "    avg_eval_loss = val_loss / len(test_data_loader)\n",
    "    \n",
    "    # Step the scheduler based on the validation loss\n",
    "    scheduler.step(avg_eval_loss)\n",
    "\n",
    "    # Evaluate metrics every 50 epochs\n",
    "    if ((epoch + 1) % 50 == 0 or epoch == 0):\n",
    "        model.eval()\n",
    "        predictions = []\n",
    "        ground_truth = []\n",
    "        with torch.no_grad():\n",
    "            for batch_x, batch_y in test_data_loader:\n",
    "                batch_x, batch_y = batch_x.to(device), batch_y.to(device)\n",
    "                outputs = model(batch_x)\n",
    "                predictions.extend(outputs.tolist())\n",
    "                ground_truth.extend(batch_y.tolist())\n",
    "\n",
    "        # Calculate metrics\n",
    "        mae = mean_absolute_error(ground_truth, predictions)\n",
    "        mse = mean_squared_error(ground_truth, predictions)\n",
    "        r2 = r2_score(ground_truth, predictions)\n",
    "\n",
    "        print(f'Epoch [{epoch+1}/{epoch_num}], MAE: {mae:.4f}, MSE: {mse:.4f}, R-squared: {r2:.4f}')\n"
   ]
  },
  {
   "cell_type": "code",
   "execution_count": 32,
   "metadata": {},
   "outputs": [
    {
     "name": "stdout",
     "output_type": "stream",
     "text": [
      "Mean Absolute Error (MAE): 0.1613\n",
      "Mean Squared Error (MSE): 0.0471\n",
      "R-squared (R2): 0.9887\n",
      "    Ground Truth (CpG Count)  Predicted CpG Count\n",
      "0                        4.0             3.782238\n",
      "1                        4.0             3.876801\n",
      "2                        7.0             6.935012\n",
      "3                        5.0             5.210648\n",
      "4                        4.0             3.676463\n",
      "5                        4.0             3.618210\n",
      "6                        6.0             5.800509\n",
      "7                        8.0             7.683654\n",
      "8                        6.0             5.971944\n",
      "9                        9.0             8.979086\n",
      "10                       7.0             7.082555\n",
      "11                       6.0             5.785742\n",
      "12                       4.0             3.912359\n",
      "13                       9.0             8.490737\n",
      "14                       4.0             3.984862\n"
     ]
    }
   ],
   "source": [
    "# Evaluation loop\n",
    "model.eval()\n",
    "predictions = []\n",
    "ground_truth = []\n",
    "\n",
    "with torch.no_grad():\n",
    "    for batch_x, batch_y in test_data_loader:\n",
    "        batch_x, batch_y = batch_x.to(device), batch_y.to(device)\n",
    "        outputs = model(batch_x)\n",
    "        predictions.extend(outputs.tolist())\n",
    "        ground_truth.extend(batch_y.tolist())\n",
    "\n",
    "# Calculate metrics\n",
    "mae = mean_absolute_error(ground_truth, predictions)\n",
    "mse = mean_squared_error(ground_truth, predictions)\n",
    "r2 = r2_score(ground_truth, predictions)\n",
    "\n",
    "print(f\"Mean Absolute Error (MAE): {mae:.4f}\")\n",
    "print(f\"Mean Squared Error (MSE): {mse:.4f}\")\n",
    "print(f\"R-squared (R2): {r2:.4f}\")\n",
    "\n",
    "# Create a DataFrame to display test results\n",
    "import pandas as pd\n",
    "df_results = pd.DataFrame({\n",
    "    'Ground Truth (CpG Count)': ground_truth,\n",
    "    'Predicted CpG Count': predictions\n",
    "})\n",
    "\n",
    "# Display first 15 results\n",
    "print(df_results.head(15))"
   ]
  },
  {
   "cell_type": "code",
   "execution_count": 33,
   "metadata": {},
   "outputs": [
    {
     "name": "stdout",
     "output_type": "stream",
     "text": [
      "lstm.weight_ih_l0 gradient mean: -0.0022412759717553854\n",
      "lstm.weight_hh_l0 gradient mean: -1.2669936040765606e-05\n",
      "lstm.bias_ih_l0 gradient mean: -0.01120559312403202\n",
      "lstm.bias_hh_l0 gradient mean: -0.01120559312403202\n",
      "lstm.weight_ih_l0_reverse gradient mean: -8.104514677143015e-07\n",
      "lstm.weight_hh_l0_reverse gradient mean: 0.0\n",
      "lstm.bias_ih_l0_reverse gradient mean: -4.026307578897104e-06\n",
      "lstm.bias_hh_l0_reverse gradient mean: -4.026307578897104e-06\n",
      "layer_norm.weight gradient mean: -0.0003692338359542191\n",
      "layer_norm.bias gradient mean: 0.00014193126116879284\n",
      "fc1.weight gradient mean: 1.4551915228366852e-11\n",
      "fc1.bias gradient mean: -0.0001439254847355187\n",
      "fc2.weight gradient mean: -0.03338004648685455\n",
      "fc2.bias gradient mean: -0.11521267145872116\n"
     ]
    }
   ],
   "source": [
    "for name, param in model.named_parameters():\n",
    "    if param.grad is not None:\n",
    "        print(f'{name} gradient mean: {param.grad.mean()}')\n"
   ]
  },
  {
   "cell_type": "markdown",
   "metadata": {
    "id": "TMrRf_aVDRJm"
   },
   "source": [
    "# Part 2: what if the DNA sequences are not the same length"
   ]
  },
  {
   "cell_type": "code",
   "execution_count": 2,
   "metadata": {},
   "outputs": [],
   "source": [
    "# hint we will need following imports\n",
    "from torch.nn.utils.rnn import pad_sequence, pack_padded_sequence, pad_packed_sequence"
   ]
  },
  {
   "cell_type": "code",
   "execution_count": 23,
   "metadata": {
    "id": "AKvG-MNuXJr9"
   },
   "outputs": [],
   "source": [
    "# DO NOT CHANGE HERE\n",
    "random.seed(13)\n",
    "\n",
    "# Use this for getting x label\n",
    "def rand_sequence_var_len(n_seqs: int, lb: int=16, ub: int=128) -> Sequence[int]:\n",
    "    for i in range(n_seqs):\n",
    "        seq_len = random.randint(lb, ub)\n",
    "        yield [random.randint(1, 5) for _ in range(seq_len)]\n",
    "\n",
    "\n",
    "# Use this for getting y label\n",
    "def count_cpgs(seq: str) -> int:\n",
    "    cgs = 0\n",
    "    for i in range(0, len(seq) - 1):\n",
    "        dimer = seq[i:i+2]\n",
    "        # note that seq is a string, not a list\n",
    "        if dimer == \"CG\":\n",
    "            cgs += 1\n",
    "    return cgs\n",
    "\n",
    "\n",
    "# Alphabet helpers   \n",
    "alphabet = 'NACGT'\n",
    "dna2int = {a: i for a, i in zip(alphabet, range(1, 6))}\n",
    "int2dna = {i: a for a, i in zip(alphabet, range(1, 6))}\n",
    "dna2int.update({\"pad\": 0})\n",
    "int2dna.update({0: \"<pad>\"})\n",
    "\n",
    "intseq_to_dnaseq = partial(map, int2dna.get)\n",
    "dnaseq_to_intseq = partial(map, dna2int.get)"
   ]
  },
  {
   "cell_type": "code",
   "execution_count": 24,
   "metadata": {},
   "outputs": [],
   "source": [
    "# TODO complete the task based on the change\n",
    "def prepare_data(num_samples=100, min_len=16, max_len=128):\n",
    "    # TODO prepared the training and test data\n",
    "    # you need to call rand_sequence and count_cpgs here to create the dataset\n",
    "    #step 1\n",
    "    X_dna_seqs_train = list(rand_sequence_var_len(num_samples, min_len, max_len))\n",
    "    #step 2\n",
    "    temp = [''.join(intseq_to_dnaseq(seq)) for seq in X_dna_seqs_train]\n",
    "    #step3\n",
    "    y_dna_seqs = [count_cpgs(seq) for seq in temp]\n",
    "    \n",
    "    return X_dna_seqs_train, y_dna_seqs\n",
    "    \n",
    "    \n",
    "min_len, max_len = 64, 128\n",
    "train_x, train_y = prepare_data(2048, min_len, max_len)\n",
    "test_x, test_y = prepare_data(512, min_len, max_len)"
   ]
  },
  {
   "cell_type": "code",
   "execution_count": 25,
   "metadata": {},
   "outputs": [],
   "source": [
    "class MyDataset(torch.utils.data.Dataset):\n",
    "    def __init__(self, lists, labels) -> None:\n",
    "        self.lists = lists\n",
    "        self.labels = labels\n",
    "\n",
    "    def __getitem__(self, index):\n",
    "        return torch.LongTensor(self.lists[index]), self.labels[index]\n",
    "\n",
    "    def __len__(self):\n",
    "        return len(self.lists)\n"
   ]
  },
  {
   "cell_type": "code",
   "execution_count": 26,
   "metadata": {},
   "outputs": [],
   "source": [
    "class PadSequence:\n",
    "    def __call__(self, batch):\n",
    "        # Sort the batch by sequence length in descending order (required by pack_padded_sequence)\n",
    "        batch.sort(key=lambda x: len(x[0]), reverse=True)\n",
    "        \n",
    "        # Separate the sequences and the labels\n",
    "        sequences, labels = zip(*batch)\n",
    "        \n",
    "        # Pad the sequences so that all have the same length\n",
    "        sequences_padded = pad_sequence(sequences, batch_first=True, padding_value=0)  # Using 0 for padding\n",
    "        \n",
    "        # Get the lengths of each sequence (before padding)\n",
    "        lengths = torch.LongTensor([len(seq) for seq in sequences])\n",
    "        \n",
    "        # Convert labels to a tensor\n",
    "        labels = torch.FloatTensor(labels)\n",
    "        \n",
    "        return sequences_padded, lengths, labels\n"
   ]
  },
  {
   "cell_type": "code",
   "execution_count": 37,
   "metadata": {},
   "outputs": [
    {
     "data": {
      "text/plain": [
       "CpGPredictor(\n",
       "  (lstm): LSTM(5, 128, batch_first=True, dropout=0.3, bidirectional=True)\n",
       "  (layer_norm): LayerNorm((256,), eps=1e-05, elementwise_affine=True)\n",
       "  (fc1): Linear(in_features=256, out_features=128, bias=True)\n",
       "  (fc2): Linear(in_features=128, out_features=1, bias=True)\n",
       "  (dropout): Dropout(p=0.3, inplace=False)\n",
       ")"
      ]
     },
     "execution_count": 37,
     "metadata": {},
     "output_type": "execute_result"
    }
   ],
   "source": [
    "# Model Definition for Variable Length Sequences\n",
    "# Model Definition for Variable Length Sequences with Bidirectional LSTM\n",
    "class CpGPredictor(nn.Module):\n",
    "    def __init__(self, input_size=5, hidden_size=128, num_layers=1, dropout=0.3):\n",
    "        super(CpGPredictor, self).__init__()\n",
    "        self.lstm = nn.LSTM(input_size, hidden_size, num_layers, batch_first=True, dropout=dropout, bidirectional=True)\n",
    "        self.layer_norm = nn.LayerNorm(2 * hidden_size)  # Update LayerNorm to handle 2 * hidden_size\n",
    "        self.fc1 = nn.Linear(2 * hidden_size, hidden_size)  # Adjust the input size for fc1\n",
    "        self.fc2 = nn.Linear(hidden_size, 1)  # fc2 remains unchanged\n",
    "        self.dropout = nn.Dropout(dropout)\n",
    "\n",
    "    def forward(self, x, lengths):\n",
    "        # Convert to one-hot encoding\n",
    "        x = torch.nn.functional.one_hot(x, num_classes=6).float()\n",
    "        \n",
    "        # Pack the padded sequence\n",
    "        packed_x = pack_padded_sequence(x, lengths, batch_first=True, enforce_sorted=False)\n",
    "        \n",
    "        # LSTM forward pass\n",
    "        packed_lstm_out, _ = self.lstm(packed_x)\n",
    "        \n",
    "        # Unpack the output\n",
    "        lstm_out, _ = pad_packed_sequence(packed_lstm_out, batch_first=True)\n",
    "        \n",
    "        # Get the last relevant output based on the sequence length\n",
    "        out = torch.stack([lstm_out[i, lengths[i] - 1, :] for i in range(len(lengths))])\n",
    "\n",
    "        # Apply layer normalization, dropout, and fully connected layers\n",
    "        out = self.layer_norm(out)  # Apply LayerNorm to the correct sized output\n",
    "        out = torch.relu(self.fc1(out))  # Adjust input size for fc1\n",
    "        out = self.dropout(out)\n",
    "        logits = self.fc2(out)\n",
    "\n",
    "        return logits.squeeze()\n",
    "\n",
    "# Initialize the model\n",
    "model = CpGPredictor(input_size=5, hidden_size=128, num_layers=1, dropout=0.3)\n",
    "\n",
    "# Weight Initialization Function\n",
    "def init_weights(m):\n",
    "    if isinstance(m, nn.Linear):\n",
    "        torch.nn.init.kaiming_uniform_(m.weight, nonlinearity='relu')  # He initialization for FC layers\n",
    "        if m.bias is not None:\n",
    "            torch.nn.init.zeros_(m.bias)\n",
    "    elif isinstance(m, nn.LSTM):\n",
    "        for name, param in m.named_parameters():\n",
    "            if 'weight' in name:\n",
    "                torch.nn.init.xavier_uniform_(param.data)  # Xavier initialization for LSTM\n",
    "            elif 'bias' in name:\n",
    "                torch.nn.init.zeros_(param.data)\n",
    "\n",
    "# Apply weight initialization\n",
    "model.apply(init_weights)\n"
   ]
  },
  {
   "cell_type": "code",
   "execution_count": 38,
   "metadata": {},
   "outputs": [],
   "source": [
    "# LSTM_HIDDEN = 128\n",
    "# LSTM_LAYER = 2\n",
    "batch_size = 64\n",
    "learning_rate = 0.0001\n",
    "epoch_num = 500\n",
    "# dropout_rate = 0.3\n",
    "weight_decay = 1e-5\n",
    "# step_size = 10\n",
    "# gamma = 0.5"
   ]
  },
  {
   "cell_type": "code",
   "execution_count": 39,
   "metadata": {},
   "outputs": [],
   "source": [
    "# Instantiate the custom Dataset and DataLoader for variable-length sequences\n",
    "train_dataset = MyDataset(train_x, train_y)\n",
    "test_dataset = MyDataset(test_x, test_y)\n",
    "\n",
    "# Instantiate the padding class\n",
    "pad_sequence_fn = PadSequence()\n",
    "\n",
    "# DataLoader for training and testing\n",
    "train_data_loader = DataLoader(train_dataset, batch_size=batch_size, shuffle=True, collate_fn=pad_sequence_fn)\n",
    "test_data_loader = DataLoader(test_dataset, batch_size=batch_size, shuffle=False, collate_fn=pad_sequence_fn)\n"
   ]
  },
  {
   "cell_type": "code",
   "execution_count": 40,
   "metadata": {},
   "outputs": [
    {
     "data": {
      "text/plain": [
       "CpGPredictor(\n",
       "  (lstm): LSTM(6, 256, num_layers=2, batch_first=True, dropout=0.3, bidirectional=True)\n",
       "  (layer_norm): LayerNorm((512,), eps=1e-05, elementwise_affine=True)\n",
       "  (fc1): Linear(in_features=512, out_features=256, bias=True)\n",
       "  (fc2): Linear(in_features=256, out_features=1, bias=True)\n",
       "  (dropout): Dropout(p=0.3, inplace=False)\n",
       ")"
      ]
     },
     "execution_count": 40,
     "metadata": {},
     "output_type": "execute_result"
    }
   ],
   "source": [
    "# Initialize the model\n",
    "model = CpGPredictor(input_size=6, hidden_size=256, num_layers=2, dropout=0.3)\n",
    "\n",
    "# Apply weight initialization\n",
    "model.apply(init_weights)\n",
    "\n",
    "# Define loss function and optimizer\n",
    "loss_fn = nn.MSELoss()\n",
    "optimizer = torch.optim.Adam(model.parameters(), lr=learning_rate, weight_decay=weight_decay)\n",
    "# scheduler = torch.optim.lr_scheduler.StepLR(optimizer, step_size=20, gamma=0.5)\n",
    "scheduler = torch.optim.lr_scheduler.ReduceLROnPlateau(optimizer, mode='min', patience=10, factor=0.5)\n",
    "\n",
    "\n",
    "# Move model to GPU if available\n",
    "device = torch.device(\"cuda\" if torch.cuda.is_available() else \"cpu\")\n",
    "model.to(device)\n"
   ]
  },
  {
   "cell_type": "code",
   "execution_count": 42,
   "metadata": {},
   "outputs": [
    {
     "name": "stdout",
     "output_type": "stream",
     "text": [
      "Epoch [50/500], MAE: 1.3227, MSE: 2.7245, R-squared: 0.3039\n",
      "Epoch [50/500], Training Loss: 2.6382, Validation Loss: 2.7245\n",
      "Epoch [100/500], MAE: 0.7500, MSE: 0.8928, R-squared: 0.7719\n",
      "Epoch [100/500], Training Loss: 0.9568, Validation Loss: 0.8928\n",
      "Epoch [150/500], MAE: 0.4971, MSE: 0.4009, R-squared: 0.8976\n",
      "Epoch [150/500], Training Loss: 0.5766, Validation Loss: 0.4009\n",
      "Epoch [200/500], MAE: 0.3332, MSE: 0.1782, R-squared: 0.9545\n",
      "Epoch [200/500], Training Loss: 0.3902, Validation Loss: 0.1782\n",
      "Epoch [250/500], MAE: 0.3162, MSE: 0.1571, R-squared: 0.9599\n",
      "Epoch [250/500], Training Loss: 0.3068, Validation Loss: 0.1571\n",
      "Epoch [300/500], MAE: 0.2583, MSE: 0.1091, R-squared: 0.9721\n",
      "Epoch [300/500], Training Loss: 0.2827, Validation Loss: 0.1091\n",
      "Epoch [350/500], MAE: 0.2468, MSE: 0.1017, R-squared: 0.9740\n",
      "Epoch [350/500], Training Loss: 0.2773, Validation Loss: 0.1017\n",
      "Epoch [400/500], MAE: 0.2473, MSE: 0.1019, R-squared: 0.9740\n",
      "Epoch [400/500], Training Loss: 0.2919, Validation Loss: 0.1019\n",
      "Epoch [450/500], MAE: 0.2462, MSE: 0.1013, R-squared: 0.9741\n",
      "Epoch [450/500], Training Loss: 0.2778, Validation Loss: 0.1013\n",
      "Epoch [500/500], MAE: 0.2465, MSE: 0.1015, R-squared: 0.9741\n",
      "Epoch [500/500], Training Loss: 0.2823, Validation Loss: 0.1015\n"
     ]
    }
   ],
   "source": [
    "for epoch in range(epoch_num):\n",
    "    model.train()\n",
    "    t_loss = 0.0\n",
    "    optimizer.zero_grad()\n",
    "\n",
    "    for batch_x, lengths, batch_y in train_data_loader:\n",
    "        batch_x, batch_y = batch_x.to(device), batch_y.to(device)\n",
    "        outputs = model(batch_x, lengths)\n",
    "        loss = loss_fn(outputs, batch_y)\n",
    "        t_loss += loss.item()\n",
    "\n",
    "        loss.backward()\n",
    "        torch.nn.utils.clip_grad_norm_(model.parameters(), max_norm=10.0)\n",
    "        optimizer.step()\n",
    "    \n",
    "    # Compute the average training loss over the epoch\n",
    "    avg_train_loss = t_loss / len(train_data_loader)\n",
    "    \n",
    "    # Step the learning rate scheduler and pass the training loss or validation loss to it\n",
    "    scheduler.step(avg_train_loss)\n",
    "\n",
    "    # Evaluate metrics every 50 epochs\n",
    "    if (epoch + 1) % 50 == 0:\n",
    "        model.eval()\n",
    "        predictions = []\n",
    "        ground_truth = []\n",
    "        t_loss_eval = 0.0\n",
    "        with torch.no_grad():\n",
    "            for batch_x, lengths, batch_y in test_data_loader:\n",
    "                batch_x, batch_y = batch_x.to(device), batch_y.to(device)\n",
    "                outputs = model(batch_x, lengths)\n",
    "                predictions.extend(outputs.tolist())\n",
    "                ground_truth.extend(batch_y.tolist())\n",
    "\n",
    "                # Calculate the evaluation loss\n",
    "                eval_loss = loss_fn(outputs, batch_y)\n",
    "                t_loss_eval += eval_loss.item()\n",
    "\n",
    "        # Calculate metrics\n",
    "        mae = mean_absolute_error(ground_truth, predictions)\n",
    "        mse = mean_squared_error(ground_truth, predictions)\n",
    "        r2 = r2_score(ground_truth, predictions)\n",
    "        \n",
    "        avg_eval_loss = t_loss_eval / len(test_data_loader)  # Average evaluation loss\n",
    "\n",
    "        print(f'Epoch [{epoch+1}/{epoch_num}], MAE: {mae:.4f}, MSE: {mse:.4f}, R-squared: {r2:.4f}')\n",
    "        print(f'Epoch [{epoch+1}/{epoch_num}], Training Loss: {avg_train_loss:.4f}, Validation Loss: {avg_eval_loss:.4f}')\n"
   ]
  },
  {
   "cell_type": "code",
   "execution_count": 43,
   "metadata": {},
   "outputs": [
    {
     "name": "stdout",
     "output_type": "stream",
     "text": [
      "Mean Absolute Error (MAE): 0.2465\n",
      "Mean Squared Error (MSE): 0.1015\n",
      "R-squared (R2): 0.9741\n",
      "    Ground Truth (CpG Count)  Predicted CpG Count\n",
      "0                        7.0             6.759179\n",
      "1                        4.0             3.484550\n",
      "2                       10.0             9.986917\n",
      "3                        2.0             2.552635\n",
      "4                        7.0             6.436924\n",
      "5                        3.0             3.199556\n",
      "6                        4.0             4.193299\n",
      "7                        5.0             5.370790\n",
      "8                        5.0             5.117517\n",
      "9                        7.0             6.417596\n",
      "10                       4.0             4.030716\n",
      "11                       5.0             5.174898\n",
      "12                       2.0             2.537110\n",
      "13                       5.0             5.029013\n",
      "14                       5.0             4.782869\n"
     ]
    }
   ],
   "source": [
    "# Evaluation loop\n",
    "model.eval()\n",
    "predictions = []\n",
    "ground_truth = []\n",
    "\n",
    "with torch.no_grad():\n",
    "    for batch_x, lengths, batch_y in test_data_loader:\n",
    "        batch_x, batch_y = batch_x.to(device), batch_y.to(device)\n",
    "        outputs = model(batch_x, lengths)\n",
    "        predictions.extend(outputs.tolist())\n",
    "        ground_truth.extend(batch_y.tolist())\n",
    "\n",
    "# Calculate metrics\n",
    "mae = mean_absolute_error(ground_truth, predictions)\n",
    "mse = mean_squared_error(ground_truth, predictions)\n",
    "r2 = r2_score(ground_truth, predictions)\n",
    "\n",
    "print(f\"Mean Absolute Error (MAE): {mae:.4f}\")\n",
    "print(f\"Mean Squared Error (MSE): {mse:.4f}\")\n",
    "print(f\"R-squared (R2): {r2:.4f}\")\n",
    "\n",
    "# Create a DataFrame to display test results\n",
    "df_results = pd.DataFrame({\n",
    "    'Ground Truth (CpG Count)': ground_truth,\n",
    "    'Predicted CpG Count': predictions\n",
    "})\n",
    "\n",
    "# Display first 15 results\n",
    "print(df_results.head(15))\n"
   ]
  },
  {
   "cell_type": "code",
   "execution_count": 44,
   "metadata": {},
   "outputs": [],
   "source": [
    "torch.save(model.state_dict(), 'best_model_lstm.pt')"
   ]
  }
 ],
 "metadata": {
  "colab": {
   "collapsed_sections": [],
   "name": "Xi Yangs Copy of broken-nn-template.ipynb",
   "provenance": [
    {
     "file_id": "13GlbI_pdKNES8I718iwl1KNnMZ73iOOn",
     "timestamp": 1651680757732
    }
   ]
  },
  "kernelspec": {
   "display_name": "Python 3 (ipykernel)",
   "language": "python",
   "name": "python3"
  },
  "language_info": {
   "codemirror_mode": {
    "name": "ipython",
    "version": 3
   },
   "file_extension": ".py",
   "mimetype": "text/x-python",
   "name": "python",
   "nbconvert_exporter": "python",
   "pygments_lexer": "ipython3",
   "version": "3.11.5"
  }
 },
 "nbformat": 4,
 "nbformat_minor": 4
}
